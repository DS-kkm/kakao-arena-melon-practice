{
 "cells": [
  {
   "cell_type": "code",
   "execution_count": 1,
   "metadata": {},
   "outputs": [],
   "source": [
    "import json\n",
    "import os\n",
    "import re\n",
    "import numpy as np\n",
    "import pandas as pd\n",
    "from scipy import sparse\n",
    "from scipy.stats import uniform\n",
    "from tqdm import tqdm"
   ]
  },
  {
   "cell_type": "code",
   "execution_count": 2,
   "metadata": {},
   "outputs": [],
   "source": [
    "song_meta = pd.read_json('3rd-melon-baseline/res/song_meta.json',encoding='utf-8') #곡 정보가 들어있는 데이터. song id, artist id, genre 등의 정보 있다.\n",
    "train_data = pd.read_json('3rd-melon-baseline/res/train.json',encoding='utf-8') #예비테스트용 데이터. playlist id, 그 playlist 당 song id리스트들&태그& 등등이 있다. (장르x. song은 리스트로 표현되어있음)\n",
    "val_data = pd.read_json('3rd-melon-baseline/res/val.json',encoding='utf-8') #예비테스트용 데이터. playlist id, 그 playlist 당 song id리스트들&태그& 등등이 있다. (장르x. song은 리스트로 표현되어있음)"
   ]
  },
  {
   "cell_type": "code",
   "execution_count": 3,
   "metadata": {},
   "outputs": [],
   "source": [
    "id_songs = (\n",
    "    train_data[['id', 'songs']]\n",
    "    .explode('songs')\n",
    "    .assign(value=1)\n",
    "    .rename(columns={'id':'user_id', 'songs':'item_id'})\n",
    ")"
   ]
  },
  {
   "cell_type": "code",
   "execution_count": 4,
   "metadata": {},
   "outputs": [],
   "source": [
    "# range of int32\n",
    "assert id_songs['user_id'].max() < 2147483647\n",
    "assert id_songs['item_id'].max() < 2147483647"
   ]
  },
  {
   "cell_type": "code",
   "execution_count": 5,
   "metadata": {},
   "outputs": [],
   "source": [
    "id_songs['user_id'] = id_songs['user_id'].astype(np.int32)\n",
    "id_songs['item_id'] = id_songs['item_id'].astype(np.int32)\n",
    "id_songs['value'] = id_songs['value'].astype(np.int8)"
   ]
  },
  {
   "cell_type": "code",
   "execution_count": 6,
   "metadata": {},
   "outputs": [
    {
     "name": "stdout",
     "output_type": "stream",
     "text": [
      "<class 'pandas.core.frame.DataFrame'>\n",
      "Int64Index: 3943148 entries, 0 to 82574\n",
      "Data columns (total 3 columns):\n",
      "user_id    int32\n",
      "item_id    int32\n",
      "value      int8\n",
      "dtypes: int32(2), int8(1)\n",
      "memory usage: 63.9 MB\n"
     ]
    }
   ],
   "source": [
    "id_songs.info()"
   ]
  },
  {
   "cell_type": "code",
   "execution_count": 7,
   "metadata": {},
   "outputs": [
    {
     "name": "stdout",
     "output_type": "stream",
     "text": [
      "제거 데이터 수:  710870\n",
      "제거 데이터 수:  14244\n",
      "제거 데이터 수:  1868\n",
      "제거 데이터 수:  410\n",
      "제거 데이터 수:  194\n",
      "제거 데이터 수:  91\n",
      "제거 데이터 수:  56\n",
      "제거 데이터 수:  72\n",
      "제거 데이터 수:  84\n",
      "제거 데이터 수:  9\n"
     ]
    }
   ],
   "source": [
    "while True:\n",
    "    prev = len(id_songs)\n",
    "\n",
    "    # 5곡 이상 가진 플레이 리스트만\n",
    "    user_count = id_songs.user_id.value_counts()\n",
    "    id_songs = id_songs[id_songs.user_id.isin(user_count[user_count >= 5].index)]\n",
    "\n",
    "    # 5번 이상 등장한 곡들만\n",
    "    item_count = id_songs.item_id.value_counts()\n",
    "    id_songs = id_songs[id_songs.item_id.isin(item_count[item_count >= 5].index)]\n",
    "\n",
    "    cur = len(id_songs)\n",
    "\n",
    "    if prev==cur: break\n",
    "    \n",
    "    print(\"제거 데이터 수: \", prev-cur)"
   ]
  },
  {
   "cell_type": "markdown",
   "metadata": {},
   "source": [
    "참조: https://stackoverflow.com/questions/31661604/efficiently-create-sparse-pivot-tables-in-pandas"
   ]
  },
  {
   "cell_type": "code",
   "execution_count": 8,
   "metadata": {},
   "outputs": [],
   "source": [
    "from scipy.sparse import csr_matrix\n",
    "from pandas.api.types import CategoricalDtype\n",
    "\n",
    "user_cate = CategoricalDtype(sorted(id_songs.user_id.unique()), ordered=True)\n",
    "song_cate = CategoricalDtype(sorted(id_songs.item_id.unique()), ordered=True)\n",
    "\n",
    "song_row = id_songs.user_id.astype(user_cate).cat.codes\n",
    "song_col = id_songs.item_id.astype(song_cate).cat.codes\n",
    "song_sparse_matrix = csr_matrix((id_songs[\"value\"], (song_row, song_col)), \\\n",
    "                           shape=(user_cate.categories.size, song_cate.categories.size))\n"
   ]
  },
  {
   "cell_type": "code",
   "execution_count": 9,
   "metadata": {},
   "outputs": [],
   "source": [
    "song_idx2id = {i:j for i, j in enumerate(song_cate.categories)}\n",
    "song_id2idx = {j:i for i, j in enumerate(song_cate.categories)}"
   ]
  },
  {
   "cell_type": "markdown",
   "metadata": {},
   "source": [
    "참조: https://implicit.readthedocs.io/en/latest/quickstart.html"
   ]
  },
  {
   "cell_type": "code",
   "execution_count": 10,
   "metadata": {},
   "outputs": [],
   "source": [
    "import implicit"
   ]
  },
  {
   "cell_type": "code",
   "execution_count": 11,
   "metadata": {},
   "outputs": [
    {
     "name": "stderr",
     "output_type": "stream",
     "text": [
      "WARNING:root:Intel MKL BLAS detected. Its highly recommend to set the environment variable 'export MKL_NUM_THREADS=1' to disable its internal multithreading\n"
     ]
    },
    {
     "data": {
      "application/vnd.jupyter.widget-view+json": {
       "model_id": "8dea64f194664087ad32712352b46d3f",
       "version_major": 2,
       "version_minor": 0
      },
      "text/plain": [
       "HBox(children=(IntProgress(value=0, max=15), HTML(value='')))"
      ]
     },
     "metadata": {},
     "output_type": "display_data"
    },
    {
     "name": "stdout",
     "output_type": "stream",
     "text": [
      "\n"
     ]
    }
   ],
   "source": [
    "# initialize a model\n",
    "model_song = implicit.als.AlternatingLeastSquares(factors=50)\n",
    "\n",
    "# train the model on a sparse matrix of item/user/confidence weights\n",
    "model_song.fit(song_sparse_matrix.T)\n",
    "\n",
    "# recommend items for a user\n",
    "user_items = song_sparse_matrix.tocsr()"
   ]
  },
  {
   "cell_type": "code",
   "execution_count": 12,
   "metadata": {},
   "outputs": [
    {
     "data": {
      "text/plain": [
       "30314784    1590\n",
       "3620493     1494\n",
       "2960594     1428\n",
       "8235260     1357\n",
       "623902      1209\n",
       "3568916     1197\n",
       "2939095     1127\n",
       "4543502     1099\n",
       "30492279    1063\n",
       "4369827     1056\n",
       "Name: item_id, dtype: int64"
      ]
     },
     "execution_count": 12,
     "metadata": {},
     "output_type": "execute_result"
    }
   ],
   "source": [
    "# 인기곡들 보자\n",
    "top_songs = id_songs.item_id.value_counts().nlargest(10)\n",
    "top_songs"
   ]
  },
  {
   "cell_type": "code",
   "execution_count": 13,
   "metadata": {},
   "outputs": [],
   "source": [
    "target_song = top_songs.index[0]\n",
    "related = model_song.similar_items(song_id2idx[target_song])\n",
    "related = [song_idx2id[r[0]] for r in related]"
   ]
  },
  {
   "cell_type": "code",
   "execution_count": 14,
   "metadata": {},
   "outputs": [
    {
     "data": {
      "text/html": [
       "<div>\n",
       "<style scoped>\n",
       "    .dataframe tbody tr th:only-of-type {\n",
       "        vertical-align: middle;\n",
       "    }\n",
       "\n",
       "    .dataframe tbody tr th {\n",
       "        vertical-align: top;\n",
       "    }\n",
       "\n",
       "    .dataframe thead th {\n",
       "        text-align: right;\n",
       "    }\n",
       "</style>\n",
       "<table border=\"1\" class=\"dataframe\">\n",
       "  <thead>\n",
       "    <tr style=\"text-align: right;\">\n",
       "      <th></th>\n",
       "      <th>song_gn_dtl_gnr_basket</th>\n",
       "      <th>issue_date</th>\n",
       "      <th>_id</th>\n",
       "      <th>album_id</th>\n",
       "      <th>artist_id_basket</th>\n",
       "      <th>song_name</th>\n",
       "      <th>song_gn_gnr_basket</th>\n",
       "      <th>album_name</th>\n",
       "      <th>artist_name_basket</th>\n",
       "    </tr>\n",
       "  </thead>\n",
       "  <tbody>\n",
       "    <tr>\n",
       "      <td>359662</td>\n",
       "      <td>[GN0105, GN0101]</td>\n",
       "      <td>20170324</td>\n",
       "      <td>30314784</td>\n",
       "      <td>10047890</td>\n",
       "      <td>261143</td>\n",
       "      <td>밤편지</td>\n",
       "      <td>[GN0100]</td>\n",
       "      <td>밤편지</td>\n",
       "      <td>아이유</td>\n",
       "    </tr>\n",
       "  </tbody>\n",
       "</table>\n",
       "</div>"
      ],
      "text/plain": [
       "       song_gn_dtl_gnr_basket  issue_date       _id  album_id  \\\n",
       "359662       [GN0105, GN0101]    20170324  30314784  10047890   \n",
       "\n",
       "       artist_id_basket song_name song_gn_gnr_basket album_name  \\\n",
       "359662           261143       밤편지           [GN0100]        밤편지   \n",
       "\n",
       "       artist_name_basket  \n",
       "359662                아이유  "
      ]
     },
     "execution_count": 14,
     "metadata": {},
     "output_type": "execute_result"
    }
   ],
   "source": [
    "song_meta[song_meta._id==target_song] # 비슷한 걸 잘 추천해주는 거 같다"
   ]
  },
  {
   "cell_type": "code",
   "execution_count": 15,
   "metadata": {},
   "outputs": [
    {
     "data": {
      "text/html": [
       "<div>\n",
       "<style scoped>\n",
       "    .dataframe tbody tr th:only-of-type {\n",
       "        vertical-align: middle;\n",
       "    }\n",
       "\n",
       "    .dataframe tbody tr th {\n",
       "        vertical-align: top;\n",
       "    }\n",
       "\n",
       "    .dataframe thead th {\n",
       "        text-align: right;\n",
       "    }\n",
       "</style>\n",
       "<table border=\"1\" class=\"dataframe\">\n",
       "  <thead>\n",
       "    <tr style=\"text-align: right;\">\n",
       "      <th></th>\n",
       "      <th>song_gn_dtl_gnr_basket</th>\n",
       "      <th>issue_date</th>\n",
       "      <th>_id</th>\n",
       "      <th>album_id</th>\n",
       "      <th>artist_id_basket</th>\n",
       "      <th>song_name</th>\n",
       "      <th>song_gn_gnr_basket</th>\n",
       "      <th>album_name</th>\n",
       "      <th>artist_name_basket</th>\n",
       "    </tr>\n",
       "  </thead>\n",
       "  <tbody>\n",
       "    <tr>\n",
       "      <td>248306</td>\n",
       "      <td>[GN0105, GN0101]</td>\n",
       "      <td>20161008</td>\n",
       "      <td>30028465</td>\n",
       "      <td>10004630</td>\n",
       "      <td>718655</td>\n",
       "      <td>이별 여행</td>\n",
       "      <td>[GN0100]</td>\n",
       "      <td>불후의 명곡 - 전설을 노래하다 (작곡가 신재홍 편)</td>\n",
       "      <td>이예준</td>\n",
       "    </tr>\n",
       "    <tr>\n",
       "      <td>359662</td>\n",
       "      <td>[GN0105, GN0101]</td>\n",
       "      <td>20170324</td>\n",
       "      <td>30314784</td>\n",
       "      <td>10047890</td>\n",
       "      <td>261143</td>\n",
       "      <td>밤편지</td>\n",
       "      <td>[GN0100]</td>\n",
       "      <td>밤편지</td>\n",
       "      <td>아이유</td>\n",
       "    </tr>\n",
       "    <tr>\n",
       "      <td>371455</td>\n",
       "      <td>[GN0401, GN0403]</td>\n",
       "      <td>20170407</td>\n",
       "      <td>30349593</td>\n",
       "      <td>10052968</td>\n",
       "      <td>261143</td>\n",
       "      <td>사랑이 잘 (With 오혁)</td>\n",
       "      <td>[GN0400]</td>\n",
       "      <td>사랑이 잘</td>\n",
       "      <td>아이유</td>\n",
       "    </tr>\n",
       "    <tr>\n",
       "      <td>381660</td>\n",
       "      <td>[GN0401, GN0403]</td>\n",
       "      <td>20170421</td>\n",
       "      <td>30378156</td>\n",
       "      <td>10056666</td>\n",
       "      <td>261143</td>\n",
       "      <td>팔레트 (Feat. G-DRAGON)</td>\n",
       "      <td>[GN0400]</td>\n",
       "      <td>Palette</td>\n",
       "      <td>아이유</td>\n",
       "    </tr>\n",
       "    <tr>\n",
       "      <td>444380</td>\n",
       "      <td>[GN0101]</td>\n",
       "      <td>20170805</td>\n",
       "      <td>30561898</td>\n",
       "      <td>10085011</td>\n",
       "      <td>1514</td>\n",
       "      <td>저녁 바다</td>\n",
       "      <td>[GN0100]</td>\n",
       "      <td>소길9화</td>\n",
       "      <td>장필순</td>\n",
       "    </tr>\n",
       "    <tr>\n",
       "      <td>477803</td>\n",
       "      <td>[GN0805, GN0801]</td>\n",
       "      <td>20170922</td>\n",
       "      <td>30636089</td>\n",
       "      <td>10096855</td>\n",
       "      <td>261143</td>\n",
       "      <td>가을 아침</td>\n",
       "      <td>[GN0800]</td>\n",
       "      <td>꽃갈피 둘</td>\n",
       "      <td>아이유</td>\n",
       "    </tr>\n",
       "    <tr>\n",
       "      <td>486495</td>\n",
       "      <td>[GN0105, GN2505, GN2501, GN0101, GN2503]</td>\n",
       "      <td>20170928</td>\n",
       "      <td>30655509</td>\n",
       "      <td>10099857</td>\n",
       "      <td>896283  1628740</td>\n",
       "      <td>시월에 설악산</td>\n",
       "      <td>[GN2500, GN0100]</td>\n",
       "      <td>Autumn</td>\n",
       "      <td>예빈 (다이아)  솜이 (다이아)</td>\n",
       "    </tr>\n",
       "    <tr>\n",
       "      <td>500752</td>\n",
       "      <td>[GN0303, GN0301]</td>\n",
       "      <td>20171023</td>\n",
       "      <td>30688500</td>\n",
       "      <td>10105030</td>\n",
       "      <td>108356</td>\n",
       "      <td>연애소설 (Feat. 아이유)</td>\n",
       "      <td>[GN0300]</td>\n",
       "      <td>WE`VE DONE SOMETHING WONDERFUL</td>\n",
       "      <td>에픽하이 (EPIK HIGH)</td>\n",
       "    </tr>\n",
       "    <tr>\n",
       "      <td>771925</td>\n",
       "      <td>[GN0105, GN0101]</td>\n",
       "      <td>20170421</td>\n",
       "      <td>30378157</td>\n",
       "      <td>10056666</td>\n",
       "      <td>261143</td>\n",
       "      <td>이런 엔딩</td>\n",
       "      <td>[GN0100]</td>\n",
       "      <td>Palette</td>\n",
       "      <td>아이유</td>\n",
       "    </tr>\n",
       "    <tr>\n",
       "      <td>826931</td>\n",
       "      <td>[GN1701]</td>\n",
       "      <td>20160126</td>\n",
       "      <td>8030177</td>\n",
       "      <td>2663871</td>\n",
       "      <td>7267</td>\n",
       "      <td>Broken Wing</td>\n",
       "      <td>[GN1700]</td>\n",
       "      <td>Chet Baker Live In Tokyo (Memorial Box) Part.2</td>\n",
       "      <td>Chet Baker</td>\n",
       "    </tr>\n",
       "  </tbody>\n",
       "</table>\n",
       "</div>"
      ],
      "text/plain": [
       "                          song_gn_dtl_gnr_basket  issue_date       _id  \\\n",
       "248306                          [GN0105, GN0101]    20161008  30028465   \n",
       "359662                          [GN0105, GN0101]    20170324  30314784   \n",
       "371455                          [GN0401, GN0403]    20170407  30349593   \n",
       "381660                          [GN0401, GN0403]    20170421  30378156   \n",
       "444380                                  [GN0101]    20170805  30561898   \n",
       "477803                          [GN0805, GN0801]    20170922  30636089   \n",
       "486495  [GN0105, GN2505, GN2501, GN0101, GN2503]    20170928  30655509   \n",
       "500752                          [GN0303, GN0301]    20171023  30688500   \n",
       "771925                          [GN0105, GN0101]    20170421  30378157   \n",
       "826931                                  [GN1701]    20160126   8030177   \n",
       "\n",
       "        album_id artist_id_basket             song_name song_gn_gnr_basket  \\\n",
       "248306  10004630           718655                 이별 여행           [GN0100]   \n",
       "359662  10047890           261143                   밤편지           [GN0100]   \n",
       "371455  10052968           261143       사랑이 잘 (With 오혁)           [GN0400]   \n",
       "381660  10056666           261143  팔레트 (Feat. G-DRAGON)           [GN0400]   \n",
       "444380  10085011             1514                 저녁 바다           [GN0100]   \n",
       "477803  10096855           261143                 가을 아침           [GN0800]   \n",
       "486495  10099857  896283  1628740               시월에 설악산   [GN2500, GN0100]   \n",
       "500752  10105030           108356      연애소설 (Feat. 아이유)           [GN0300]   \n",
       "771925  10056666           261143                 이런 엔딩           [GN0100]   \n",
       "826931   2663871             7267           Broken Wing           [GN1700]   \n",
       "\n",
       "                                            album_name  artist_name_basket  \n",
       "248306                   불후의 명곡 - 전설을 노래하다 (작곡가 신재홍 편)                 이예준  \n",
       "359662                                             밤편지                 아이유  \n",
       "371455                                           사랑이 잘                 아이유  \n",
       "381660                                         Palette                 아이유  \n",
       "444380                                            소길9화                 장필순  \n",
       "477803                                           꽃갈피 둘                 아이유  \n",
       "486495                                          Autumn  예빈 (다이아)  솜이 (다이아)  \n",
       "500752                  WE`VE DONE SOMETHING WONDERFUL    에픽하이 (EPIK HIGH)  \n",
       "771925                                         Palette                 아이유  \n",
       "826931  Chet Baker Live In Tokyo (Memorial Box) Part.2          Chet Baker  "
      ]
     },
     "execution_count": 15,
     "metadata": {},
     "output_type": "execute_result"
    }
   ],
   "source": [
    "song_meta[song_meta._id.isin(related)]"
   ]
  },
  {
   "cell_type": "code",
   "execution_count": 16,
   "metadata": {},
   "outputs": [],
   "source": [
    "# 정합성 볼 때 체크\n",
    "# display(song_meta[song_meta._id.isin(related)])"
   ]
  },
  {
   "cell_type": "code",
   "execution_count": 17,
   "metadata": {},
   "outputs": [],
   "source": [
    "# 미리 탑 200 땡겨놓기\n",
    "top200_songs = id_songs.groupby('item_id').value.sum().nlargest(200).index"
   ]
  },
  {
   "cell_type": "code",
   "execution_count": 18,
   "metadata": {},
   "outputs": [],
   "source": [
    "def song_recommender(ipt):\n",
    "    '''\n",
    "    인풋을 하나밖에 못 받아서 ipt로 받은 다음 두 개로 unpacking\n",
    "    여러 개 받는 방법 있을 거 같은데 모름 ...\n",
    "    top200_songs를 따로 input으로 받은 이유는, 분산처리에서 여러 코어가 하나의 객체를 접근할 때 오류가 나기 때문\n",
    "    그래서 밑에 top200_song을 input으로 줄 때 굳이 copy 해서 줬다.\n",
    "    근데 근데 joblib에서는 났었는데, multiprocessing에서는 안난다 ;; 두 개의 성질이 좀 다른 것 같다\n",
    "    즉 이렇게 안해줘도 에러는 안나는데 .... 안전빵으로 해줫음\n",
    "    '''\n",
    "    row, top200_songs = ipt\n",
    "    cands = {}\n",
    "    # 각 곡 별로\n",
    "    for song in row.songs:\n",
    "        # 유사곡 100개 소환. \n",
    "        if song not in song_id2idx.keys(): continue # val에는 train에 아예 없던 곡이 나올 수 있으므로 해당하면 재끼도록 설계\n",
    "        related = [(song_idx2id[r[0]], r[1]) for r in model_song.similar_items(song_id2idx[song], 100)]\n",
    "        for cand in related:\n",
    "            # 추천된 아이템 : 유사도 리스트를 딕셔너리로 구현\n",
    "            cands[cand[0]] = cands.get(cand[0], []) + [cand[1]]\n",
    "    # 한 곡이 여러번 추천될 땐 가장 높은 유사도 하나 채택\n",
    "    cands = {k:max(v) for k, v in cands.items()}\n",
    "    # 유사도 순으로 정렬 후, 기존 플레이리스트에 없는 곳들만 가지고 100개 뽑기\n",
    "    sorted_cands = [w for w in sorted(cands, key=cands.get, reverse=True) if w not in row.songs][:100]\n",
    "\n",
    "    # 가끔 미쳐가지고 비어있거나 한 경우도 있음. 이럴 땐 그냥 베스트를 넣어주자\n",
    "    if len(sorted_cands) < 100:\n",
    "        non_seen_top_200_songs = [song for song in top200_songs if song not in row.songs + sorted_cands]\n",
    "        sorted_cands += non_seen_top_200_songs[:100-len(sorted_cands)]\n",
    "    \n",
    "    assert len(sorted_cands) == 100\n",
    "    \n",
    "    # float가 많아서 int로 전환\n",
    "    sorted_cands = [int(s) for s in sorted_cands]\n",
    "#     song_rec[row.id] = sorted_cands\n",
    "    return (row.id, sorted_cands)"
   ]
  },
  {
   "cell_type": "code",
   "execution_count": 19,
   "metadata": {},
   "outputs": [],
   "source": [
    "from multiprocessing import Pool"
   ]
  },
  {
   "cell_type": "code",
   "execution_count": 20,
   "metadata": {},
   "outputs": [
    {
     "name": "stderr",
     "output_type": "stream",
     "text": [
      "100%|██████████| 22521/22521 [00:02<00:00, 10212.94it/s]\n"
     ]
    },
    {
     "name": "stdout",
     "output_type": "stream",
     "text": [
      "CPU times: user 7.07 s, sys: 775 ms, total: 7.84 s\n",
      "Wall time: 5min 37s\n"
     ]
    }
   ],
   "source": [
    "%%time\n",
    "with Pool(8) as p:\n",
    "    res = p.map(song_recommender, [(row, top200_songs.copy()) for idx, row in tqdm(val_data.iterrows(), total=len(val_data))])    "
   ]
  },
  {
   "cell_type": "code",
   "execution_count": 21,
   "metadata": {},
   "outputs": [],
   "source": [
    "# 각 플레이리스트에 대해\n",
    "song_rec = {k:v for (k, v) in res}"
   ]
  },
  {
   "cell_type": "markdown",
   "metadata": {},
   "source": [
    "## TAG 작업"
   ]
  },
  {
   "cell_type": "code",
   "execution_count": 22,
   "metadata": {},
   "outputs": [],
   "source": [
    "id_tags = (\n",
    "    train_data[['id', 'tags']]\n",
    "    .explode('tags')\n",
    "    .assign(value=1)\n",
    "    .rename(columns={'id':'user_id', 'tags':'tag_name'})\n",
    ")"
   ]
  },
  {
   "cell_type": "code",
   "execution_count": 23,
   "metadata": {},
   "outputs": [],
   "source": [
    "# range of int32\n",
    "assert id_tags['user_id'].max() < 2147483647"
   ]
  },
  {
   "cell_type": "code",
   "execution_count": 24,
   "metadata": {},
   "outputs": [],
   "source": [
    "id_tags['user_id'] = id_tags['user_id'].astype(np.int32)\n",
    "id_tags['value'] = id_tags['value'].astype(np.int8)"
   ]
  },
  {
   "cell_type": "code",
   "execution_count": 25,
   "metadata": {},
   "outputs": [
    {
     "name": "stdout",
     "output_type": "stream",
     "text": [
      "<class 'pandas.core.frame.DataFrame'>\n",
      "Int64Index: 336840 entries, 0 to 82574\n",
      "Data columns (total 3 columns):\n",
      "user_id     336840 non-null int32\n",
      "tag_name    336840 non-null object\n",
      "value       336840 non-null int8\n",
      "dtypes: int32(1), int8(1), object(1)\n",
      "memory usage: 6.7+ MB\n"
     ]
    }
   ],
   "source": [
    "id_tags.info()"
   ]
  },
  {
   "cell_type": "code",
   "execution_count": 26,
   "metadata": {},
   "outputs": [
    {
     "name": "stdout",
     "output_type": "stream",
     "text": [
      "제거 데이터 수:  138904\n",
      "제거 데이터 수:  13269\n",
      "제거 데이터 수:  1499\n",
      "제거 데이터 수:  275\n",
      "제거 데이터 수:  63\n",
      "제거 데이터 수:  16\n",
      "제거 데이터 수:  20\n",
      "제거 데이터 수:  12\n"
     ]
    }
   ],
   "source": [
    "while True:\n",
    "    prev = len(id_tags)\n",
    "\n",
    "    # 5곡 이상 가진 플레이 리스트만\n",
    "    user_count = id_tags.user_id.value_counts()\n",
    "    id_tags = id_tags[id_tags.user_id.isin(user_count[user_count >= 5].index)]\n",
    "\n",
    "    # 5번 이상 등장한 곡들만\n",
    "    tag_count = id_tags.tag_name.value_counts()\n",
    "    id_tags = id_tags[id_tags.tag_name.isin(tag_count[tag_count >= 5].index)]\n",
    "\n",
    "    cur = len(id_tags)\n",
    "\n",
    "    if prev==cur: break\n",
    "    \n",
    "    print(\"제거 데이터 수: \", prev-cur)"
   ]
  },
  {
   "cell_type": "code",
   "execution_count": 27,
   "metadata": {},
   "outputs": [],
   "source": [
    "user_cate = CategoricalDtype(sorted(id_tags.user_id.unique()), ordered=True)\n",
    "tag_cate = CategoricalDtype(sorted(id_tags.tag_name.unique()), ordered=True)\n",
    "\n",
    "tag_row = id_tags.user_id.astype(user_cate).cat.codes\n",
    "tag_col = id_tags.tag_name.astype(tag_cate).cat.codes\n",
    "tag_sparse_matrix = csr_matrix((id_tags[\"value\"], (tag_row, tag_col)), \\\n",
    "                           shape=(user_cate.categories.size, tag_cate.categories.size))\n"
   ]
  },
  {
   "cell_type": "code",
   "execution_count": 28,
   "metadata": {},
   "outputs": [],
   "source": [
    "tag_idx2name = {i:j for i, j in enumerate(tag_cate.categories)}\n",
    "tag_name2idx = {j:i for i, j in enumerate(tag_cate.categories)}"
   ]
  },
  {
   "cell_type": "code",
   "execution_count": 29,
   "metadata": {},
   "outputs": [
    {
     "data": {
      "application/vnd.jupyter.widget-view+json": {
       "model_id": "8c685bc3489148508d83c455967f558d",
       "version_major": 2,
       "version_minor": 0
      },
      "text/plain": [
       "HBox(children=(IntProgress(value=0, max=15), HTML(value='')))"
      ]
     },
     "metadata": {},
     "output_type": "display_data"
    },
    {
     "name": "stdout",
     "output_type": "stream",
     "text": [
      "\n"
     ]
    }
   ],
   "source": [
    "# initialize a model\n",
    "model_tag = implicit.als.AlternatingLeastSquares(factors=50)\n",
    "\n",
    "# train the model on a sparse matrix of item/user/confidence weights\n",
    "model_tag.fit(tag_sparse_matrix.T)\n",
    "\n",
    "# recommend items for a user\n",
    "user_tags = tag_sparse_matrix.tocsr()"
   ]
  },
  {
   "cell_type": "code",
   "execution_count": 30,
   "metadata": {},
   "outputs": [
    {
     "data": {
      "text/plain": [
       "감성      6342\n",
       "기분전환    6069\n",
       "드라이브    4691\n",
       "카페      4089\n",
       "잔잔한     3812\n",
       "휴식      3586\n",
       "사랑      3039\n",
       "발라드     2848\n",
       "힐링      2745\n",
       "신나는     2663\n",
       "Name: tag_name, dtype: int64"
      ]
     },
     "execution_count": 30,
     "metadata": {},
     "output_type": "execute_result"
    }
   ],
   "source": [
    "# 인기태그들 보자\n",
    "top_tags = id_tags.tag_name.value_counts().nlargest(10)\n",
    "top_tags"
   ]
  },
  {
   "cell_type": "code",
   "execution_count": 31,
   "metadata": {},
   "outputs": [
    {
     "data": {
      "text/plain": [
       "['감성', '스푼자몽', '스푼', '자몽', '갬성', '가사가좋은노래', '밤에', '퇴근_후', '헤이즈', '음색좋은']"
      ]
     },
     "execution_count": 31,
     "metadata": {},
     "output_type": "execute_result"
    }
   ],
   "source": [
    "# 1위인 감성과 관련된 태그들\n",
    "related = model_tag.similar_items(tag_name2idx[top_tags.index[0]])\n",
    "[tag_idx2name[r[0]] for r in related]"
   ]
  },
  {
   "cell_type": "code",
   "execution_count": 32,
   "metadata": {},
   "outputs": [],
   "source": [
    "# 미리 탑 200 땡겨놓기\n",
    "top200_tags = id_tags.groupby('tag_name').value.sum().nlargest(200).index"
   ]
  },
  {
   "cell_type": "code",
   "execution_count": 34,
   "metadata": {},
   "outputs": [
    {
     "name": "stderr",
     "output_type": "stream",
     "text": [
      "100%|██████████| 22521/22521 [00:57<00:00, 390.75it/s]\n"
     ]
    }
   ],
   "source": [
    "# 각 플레이리스트에 대해\n",
    "tag_rec = {}\n",
    "for idx, row in tqdm(val_data.iterrows(), total=len(val_data)):\n",
    "    cands = {}\n",
    "    # 각 태그 별로\n",
    "    for tag in row.tags:\n",
    "        # 유사곡 100개 소환. \n",
    "        if tag not in tag_name2idx.keys(): continue # val에는 train에 아예 없던 곡이 나올 수 있으므로 해당하면 재끼도록 설계\n",
    "        related = [(tag_idx2name[r[0]], r[1]) for r in model_tag.similar_items(tag_name2idx[tag], 10)]\n",
    "        for cand in related:\n",
    "            # 추천된 아이템 : 유사도 리스트를 딕셔너리로 구현\n",
    "            cands[cand[0]] = cands.get(cand[0], []) + [cand[1]]\n",
    "    # 한 곡이 여러번 추천될 땐 가장 높은 유사도 하나 채택\n",
    "    cands = {k:max(v) for k, v in cands.items()}\n",
    "    # 유사도 순으로 정렬 후, 기존 플레이리스트에 없는 곳들만 가지고 100개 뽑기\n",
    "    sorted_cands = [w for w in sorted(cands, key=cands.get, reverse=True) if w not in row.tags][:10]\n",
    "\n",
    "    # 가끔 미쳐가지고 비어있거나 한 경우도 있음. 이럴 땐 그냥 베스트를 넣어주자\n",
    "    if len(sorted_cands) < 10:\n",
    "        non_seen_top_200_tags = [tag for tag in top200_tags if tag not in row.tags + sorted_cands]\n",
    "        sorted_cands += non_seen_top_200_tags[:10-len(sorted_cands)]\n",
    "    \n",
    "    assert len(sorted_cands) == 10\n",
    "\n",
    "    tag_rec[row.id] = sorted_cands"
   ]
  },
  {
   "cell_type": "markdown",
   "metadata": {},
   "source": [
    "### 잘 됐나 확인"
   ]
  },
  {
   "cell_type": "code",
   "execution_count": 35,
   "metadata": {},
   "outputs": [
    {
     "name": "stdout",
     "output_type": "stream",
     "text": [
      "15648    [3026155, 3049084, 3136470, 5704784, 1889399, ...\n",
      "Name: songs, dtype: object\n",
      "15648    []\n",
      "Name: tags, dtype: object\n"
     ]
    }
   ],
   "source": [
    "target = val_data.sample()\n",
    "print(target.songs)\n",
    "print(target.tags)"
   ]
  },
  {
   "cell_type": "code",
   "execution_count": 36,
   "metadata": {},
   "outputs": [
    {
     "data": {
      "text/plain": [
       "['감성', '기분전환', '드라이브', '카페', '잔잔한', '휴식', '사랑', '발라드', '힐링', '신나는']"
      ]
     },
     "execution_count": 36,
     "metadata": {},
     "output_type": "execute_result"
    }
   ],
   "source": [
    "tag_rec[target['id'].values[0]] # 비슷한 tag가 보인다"
   ]
  },
  {
   "cell_type": "code",
   "execution_count": 37,
   "metadata": {},
   "outputs": [
    {
     "data": {
      "text/html": [
       "<div>\n",
       "<style scoped>\n",
       "    .dataframe tbody tr th:only-of-type {\n",
       "        vertical-align: middle;\n",
       "    }\n",
       "\n",
       "    .dataframe tbody tr th {\n",
       "        vertical-align: top;\n",
       "    }\n",
       "\n",
       "    .dataframe thead th {\n",
       "        text-align: right;\n",
       "    }\n",
       "</style>\n",
       "<table border=\"1\" class=\"dataframe\">\n",
       "  <thead>\n",
       "    <tr style=\"text-align: right;\">\n",
       "      <th></th>\n",
       "      <th>song_name</th>\n",
       "      <th>artist_name_basket</th>\n",
       "    </tr>\n",
       "  </thead>\n",
       "  <tbody>\n",
       "    <tr>\n",
       "      <td>19649</td>\n",
       "      <td>너에게..기대</td>\n",
       "      <td>메이트</td>\n",
       "    </tr>\n",
       "    <tr>\n",
       "      <td>206046</td>\n",
       "      <td>Gavial</td>\n",
       "      <td>국카스텐</td>\n",
       "    </tr>\n",
       "    <tr>\n",
       "      <td>296519</td>\n",
       "      <td>봄이 오는 동안</td>\n",
       "      <td>재주소년</td>\n",
       "    </tr>\n",
       "    <tr>\n",
       "      <td>321659</td>\n",
       "      <td>겨울밤</td>\n",
       "      <td>장재인</td>\n",
       "    </tr>\n",
       "    <tr>\n",
       "      <td>349522</td>\n",
       "      <td>별 빛이 내린다</td>\n",
       "      <td>안녕바다</td>\n",
       "    </tr>\n",
       "    <tr>\n",
       "      <td>389725</td>\n",
       "      <td>그게 아니고</td>\n",
       "      <td>10CM</td>\n",
       "    </tr>\n",
       "    <tr>\n",
       "      <td>578550</td>\n",
       "      <td>놀이 (Feat. San E)</td>\n",
       "      <td>양다일  강민희</td>\n",
       "    </tr>\n",
       "    <tr>\n",
       "      <td>582401</td>\n",
       "      <td>우리는 선처럼 가만히 누워 (Feat. 이상순)</td>\n",
       "      <td>요조</td>\n",
       "    </tr>\n",
       "    <tr>\n",
       "      <td>708139</td>\n",
       "      <td>북치는 토끼</td>\n",
       "      <td>루싸이트 토끼</td>\n",
       "    </tr>\n",
       "    <tr>\n",
       "      <td>738266</td>\n",
       "      <td>River</td>\n",
       "      <td>어반자카파</td>\n",
       "    </tr>\n",
       "    <tr>\n",
       "      <td>756154</td>\n",
       "      <td>멀어지다</td>\n",
       "      <td>넬 (NELL)</td>\n",
       "    </tr>\n",
       "    <tr>\n",
       "      <td>759756</td>\n",
       "      <td>비밀</td>\n",
       "      <td>짙은  한희정</td>\n",
       "    </tr>\n",
       "    <tr>\n",
       "      <td>807762</td>\n",
       "      <td>I`m In Love</td>\n",
       "      <td>라디 (Ra. D)</td>\n",
       "    </tr>\n",
       "    <tr>\n",
       "      <td>817023</td>\n",
       "      <td>마지막 춤은 나와 함께</td>\n",
       "      <td>재주소년</td>\n",
       "    </tr>\n",
       "  </tbody>\n",
       "</table>\n",
       "</div>"
      ],
      "text/plain": [
       "                         song_name artist_name_basket\n",
       "19649                      너에게..기대                메이트\n",
       "206046                      Gavial               국카스텐\n",
       "296519                    봄이 오는 동안               재주소년\n",
       "321659                         겨울밤                장재인\n",
       "349522                    별 빛이 내린다               안녕바다\n",
       "389725                      그게 아니고               10CM\n",
       "578550            놀이 (Feat. San E)           양다일  강민희\n",
       "582401  우리는 선처럼 가만히 누워 (Feat. 이상순)                 요조\n",
       "708139                      북치는 토끼            루싸이트 토끼\n",
       "738266                       River              어반자카파\n",
       "756154                        멀어지다           넬 (NELL)\n",
       "759756                          비밀            짙은  한희정\n",
       "807762                 I`m In Love         라디 (Ra. D)\n",
       "817023                마지막 춤은 나와 함께               재주소년"
      ]
     },
     "execution_count": 37,
     "metadata": {},
     "output_type": "execute_result"
    }
   ],
   "source": [
    "song_meta.loc[song_meta._id.isin(target.songs.values[0]), ['song_name', 'artist_name_basket']]"
   ]
  },
  {
   "cell_type": "code",
   "execution_count": 38,
   "metadata": {},
   "outputs": [
    {
     "data": {
      "text/html": [
       "<div>\n",
       "<style scoped>\n",
       "    .dataframe tbody tr th:only-of-type {\n",
       "        vertical-align: middle;\n",
       "    }\n",
       "\n",
       "    .dataframe tbody tr th {\n",
       "        vertical-align: top;\n",
       "    }\n",
       "\n",
       "    .dataframe thead th {\n",
       "        text-align: right;\n",
       "    }\n",
       "</style>\n",
       "<table border=\"1\" class=\"dataframe\">\n",
       "  <thead>\n",
       "    <tr style=\"text-align: right;\">\n",
       "      <th></th>\n",
       "      <th>song_name</th>\n",
       "      <th>artist_name_basket</th>\n",
       "    </tr>\n",
       "  </thead>\n",
       "  <tbody>\n",
       "    <tr>\n",
       "      <td>19186</td>\n",
       "      <td>돌아오면 돼</td>\n",
       "      <td>박지윤</td>\n",
       "    </tr>\n",
       "    <tr>\n",
       "      <td>19662</td>\n",
       "      <td>안녕</td>\n",
       "      <td>메이트</td>\n",
       "    </tr>\n",
       "    <tr>\n",
       "      <td>19736</td>\n",
       "      <td>왜</td>\n",
       "      <td>메이트</td>\n",
       "    </tr>\n",
       "    <tr>\n",
       "      <td>26139</td>\n",
       "      <td>멀어지네요</td>\n",
       "      <td>심현보</td>\n",
       "    </tr>\n",
       "    <tr>\n",
       "      <td>39887</td>\n",
       "      <td>거꾸로 걷는다</td>\n",
       "      <td>어반자카파</td>\n",
       "    </tr>\n",
       "    <tr>\n",
       "      <td>...</td>\n",
       "      <td>...</td>\n",
       "      <td>...</td>\n",
       "    </tr>\n",
       "    <tr>\n",
       "      <td>811322</td>\n",
       "      <td>난시</td>\n",
       "      <td>딕펑스 (DICKPUNKS)</td>\n",
       "    </tr>\n",
       "    <tr>\n",
       "      <td>817335</td>\n",
       "      <td>그대는 어디에 (Feat. 한희정)</td>\n",
       "      <td>에피톤 프로젝트</td>\n",
       "    </tr>\n",
       "    <tr>\n",
       "      <td>820211</td>\n",
       "      <td>이별 통보 (Vocal 반광옥)</td>\n",
       "      <td>더필름</td>\n",
       "    </tr>\n",
       "    <tr>\n",
       "      <td>825893</td>\n",
       "      <td>괜찮아졌어 (Feat. 김지영)</td>\n",
       "      <td>Ignite</td>\n",
       "    </tr>\n",
       "    <tr>\n",
       "      <td>843082</td>\n",
       "      <td>나는 그 사람이 아프다 (Feat. 타루)</td>\n",
       "      <td>에피톤 프로젝트</td>\n",
       "    </tr>\n",
       "  </tbody>\n",
       "</table>\n",
       "<p>100 rows × 2 columns</p>\n",
       "</div>"
      ],
      "text/plain": [
       "                      song_name artist_name_basket\n",
       "19186                    돌아오면 돼                박지윤\n",
       "19662                        안녕                메이트\n",
       "19736                         왜                메이트\n",
       "26139                     멀어지네요                심현보\n",
       "39887                   거꾸로 걷는다              어반자카파\n",
       "...                         ...                ...\n",
       "811322                       난시    딕펑스 (DICKPUNKS)\n",
       "817335      그대는 어디에 (Feat. 한희정)           에피톤 프로젝트\n",
       "820211        이별 통보 (Vocal 반광옥)                더필름\n",
       "825893        괜찮아졌어 (Feat. 김지영)             Ignite\n",
       "843082  나는 그 사람이 아프다 (Feat. 타루)           에피톤 프로젝트\n",
       "\n",
       "[100 rows x 2 columns]"
      ]
     },
     "execution_count": 38,
     "metadata": {},
     "output_type": "execute_result"
    }
   ],
   "source": [
    "song_meta.loc[song_meta._id.isin(song_rec[target['id'].values[0]]), ['song_name', 'artist_name_basket']]"
   ]
  },
  {
   "cell_type": "code",
   "execution_count": 39,
   "metadata": {},
   "outputs": [
    {
     "name": "stdout",
     "output_type": "stream",
     "text": [
      "19499    []\n",
      "Name: songs, dtype: object\n",
      "19499    []\n",
      "Name: tags, dtype: object\n"
     ]
    }
   ],
   "source": [
    "target = val_data.sample()\n",
    "print(target.songs)\n",
    "print(target.tags)"
   ]
  },
  {
   "cell_type": "code",
   "execution_count": 40,
   "metadata": {},
   "outputs": [
    {
     "data": {
      "text/plain": [
       "['감성', '기분전환', '드라이브', '카페', '잔잔한', '휴식', '사랑', '발라드', '힐링', '신나는']"
      ]
     },
     "execution_count": 40,
     "metadata": {},
     "output_type": "execute_result"
    }
   ],
   "source": [
    "tag_rec[target['id'].values[0]] # 주어진 tag가 없다보니 global top을 갔다"
   ]
  },
  {
   "cell_type": "code",
   "execution_count": 41,
   "metadata": {},
   "outputs": [
    {
     "data": {
      "text/html": [
       "<div>\n",
       "<style scoped>\n",
       "    .dataframe tbody tr th:only-of-type {\n",
       "        vertical-align: middle;\n",
       "    }\n",
       "\n",
       "    .dataframe tbody tr th {\n",
       "        vertical-align: top;\n",
       "    }\n",
       "\n",
       "    .dataframe thead th {\n",
       "        text-align: right;\n",
       "    }\n",
       "</style>\n",
       "<table border=\"1\" class=\"dataframe\">\n",
       "  <thead>\n",
       "    <tr style=\"text-align: right;\">\n",
       "      <th></th>\n",
       "      <th>song_name</th>\n",
       "      <th>artist_name_basket</th>\n",
       "    </tr>\n",
       "  </thead>\n",
       "  <tbody>\n",
       "  </tbody>\n",
       "</table>\n",
       "</div>"
      ],
      "text/plain": [
       "Empty DataFrame\n",
       "Columns: [song_name, artist_name_basket]\n",
       "Index: []"
      ]
     },
     "execution_count": 41,
     "metadata": {},
     "output_type": "execute_result"
    }
   ],
   "source": [
    "song_meta.loc[song_meta._id.isin(target.songs.values[0]), ['song_name', 'artist_name_basket']]"
   ]
  },
  {
   "cell_type": "code",
   "execution_count": 42,
   "metadata": {},
   "outputs": [
    {
     "name": "stderr",
     "output_type": "stream",
     "text": [
      "100%|██████████| 22521/22521 [00:00<00:00, 222653.65it/s]\n"
     ]
    }
   ],
   "source": [
    "# 중복 없나 확인\n",
    "for k, v in tqdm(song_rec.items()):\n",
    "    if len(v) != len(set(v)):\n",
    "        print(k)"
   ]
  }
 ],
 "metadata": {
  "kernelspec": {
   "display_name": "Python 3",
   "language": "python",
   "name": "python3"
  },
  "language_info": {
   "codemirror_mode": {
    "name": "ipython",
    "version": 3
   },
   "file_extension": ".py",
   "mimetype": "text/x-python",
   "name": "python",
   "nbconvert_exporter": "python",
   "pygments_lexer": "ipython3",
   "version": "3.7.6"
  }
 },
 "nbformat": 4,
 "nbformat_minor": 2
}
